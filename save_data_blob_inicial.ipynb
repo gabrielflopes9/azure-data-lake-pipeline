{
  "nbformat": 4,
  "nbformat_minor": 0,
  "metadata": {
    "colab": {
      "provenance": []
    },
    "kernelspec": {
      "name": "python3",
      "display_name": "Python 3"
    },
    "language_info": {
      "name": "python"
    }
  },
  "cells": [
    {
      "cell_type": "markdown",
      "source": [
        "## Criando uma pasta e extraindo os dados"
      ],
      "metadata": {
        "id": "ojVAxRGhvxJb"
      }
    },
    {
      "cell_type": "code",
      "source": [
        "!mkdir -p data"
      ],
      "metadata": {
        "id": "TGfxbc6qRSUB"
      },
      "execution_count": 1,
      "outputs": []
    },
    {
      "cell_type": "code",
      "source": [
        "import urllib.request\n",
        "import zipfile\n",
        "\n",
        "\n",
        "def extract_data(url,filename):\n",
        "    urllib.request.urlretrieve(url,filename)"
      ],
      "metadata": {
        "id": "pWU6w-2yRbnf"
      },
      "execution_count": 2,
      "outputs": []
    },
    {
      "cell_type": "code",
      "source": [
        "extract_data(\"https://caelum-online-public.s3.amazonaws.com/2464-data-lake-pipeline-ingestao-dados/csvs/dados_2015.csv\",\"data/dados_2015.csv\")"
      ],
      "metadata": {
        "id": "-fihOfnEfWTP"
      },
      "execution_count": 3,
      "outputs": []
    },
    {
      "cell_type": "code",
      "source": [
        "extract_data(\"https://caelum-online-public.s3.amazonaws.com/2464-data-lake-pipeline-ingestao-dados/csvs/dados_2016.csv\",\"data/dados_2016.csv\")\n",
        "extract_data(\"https://caelum-online-public.s3.amazonaws.com/2464-data-lake-pipeline-ingestao-dados/csvs/dados_2017.csv\",\"data/dados_2017.csv\")\n",
        "extract_data(\"https://caelum-online-public.s3.amazonaws.com/2464-data-lake-pipeline-ingestao-dados/csvs/dados_2018.csv\",\"data/dados_2018.csv\")\n",
        "extract_data(\"https://caelum-online-public.s3.amazonaws.com/2464-data-lake-pipeline-ingestao-dados/csvs/dados_2019.csv\",\"data/dados_2019.csv\")\n",
        "extract_data(\"https://caelum-online-public.s3.amazonaws.com/2464-data-lake-pipeline-ingestao-dados/csvs/dados_2020.csv\",\"data/dados_2020.csv\")"
      ],
      "metadata": {
        "id": "jAm9fzJKgAWd"
      },
      "execution_count": 4,
      "outputs": []
    },
    {
      "cell_type": "markdown",
      "source": [
        "## Compactando os arquivos"
      ],
      "metadata": {
        "id": "tdXfpTpP6uEr"
      }
    },
    {
      "cell_type": "code",
      "source": [
        "import shutil\n",
        "\n",
        "\n",
        "def zip_directory(path,zip_name):\n",
        "    shutil.make_archive(zip_name,'zip',path)"
      ],
      "metadata": {
        "id": "d3AFhcfaLzfB"
      },
      "execution_count": 5,
      "outputs": []
    },
    {
      "cell_type": "code",
      "source": [
        "zip_directory(\"/content/data\",\"dados_boston\")"
      ],
      "metadata": {
        "id": "raczyOyGUF8t"
      },
      "execution_count": null,
      "outputs": []
    },
    {
      "cell_type": "markdown",
      "source": [
        "## Conectando a conta de armazenamento"
      ],
      "metadata": {
        "id": "JFPt_aAKvz3P"
      }
    },
    {
      "cell_type": "code",
      "source": [
        "!pip install azure-storage-blob\n",
        "!pip install azure-identity"
      ],
      "metadata": {
        "id": "WCKRYJ9StqTA"
      },
      "execution_count": null,
      "outputs": []
    },
    {
      "cell_type": "code",
      "source": [
        "\n",
        "from azure.identity import DefaultAzureCredential\n",
        "from azure.storage.blob import BlobServiceClient, BlobClient, ContainerClient\n",
        "import os"
      ],
      "metadata": {
        "id": "HJEGxEitt7pQ"
      },
      "execution_count": null,
      "outputs": []
    },
    {
      "cell_type": "code",
      "source": [
        "def get_blob_service_client_account_key():\n",
        "    # TODO: Replace <storage-account-name> with your actual storage account name\n",
        "    account_url = \"https://<nameblob>.blob.core.windows.net\"\n",
        "    shared_access_key = \"key\"\n",
        "    credential = shared_access_key\n",
        "\n",
        "    # Create the BlobServiceClient object\n",
        "    blob_service_client = BlobServiceClient(account_url, credential=credential)\n",
        "\n",
        "    return blob_service_client"
      ],
      "metadata": {
        "id": "OPI7-qKSvNMO"
      },
      "execution_count": null,
      "outputs": []
    },
    {
      "cell_type": "code",
      "source": [
        "blob_service_client=get_blob_service_client_account_key()\n",
        "blob_service_client"
      ],
      "metadata": {
        "id": "9GAFudnUbeiG"
      },
      "execution_count": null,
      "outputs": []
    },
    {
      "cell_type": "markdown",
      "source": [
        "## Fazendo upload do arquivo compactado no Blob Storage"
      ],
      "metadata": {
        "id": "h4bSq6c48es6"
      }
    },
    {
      "cell_type": "code",
      "source": [
        "def upload_blob_file(blob_service_client,container_name,filepath,filename):\n",
        "  container_client = blob_service_client.get_container_client(container = container_name)\n",
        "  with open(filepath, \"rb\") as data:\n",
        "    blob_client = container_client.upload_blob(name=filename,data=data,overwrite=True)\n"
      ],
      "metadata": {
        "id": "KhtabVWO8gwg"
      },
      "execution_count": null,
      "outputs": []
    },
    {
      "cell_type": "code",
      "source": [
        "upload_blob_file(blob_service_client,\"servicosbostonzip\",\"/content/dados_boston.zip\",\"dados_boston.zip\")"
      ],
      "metadata": {
        "id": "1Zi0T_lM7X_s"
      },
      "execution_count": null,
      "outputs": []
    },
    {
      "cell_type": "code",
      "source": [],
      "metadata": {
        "id": "p48sN6gpfo2L"
      },
      "execution_count": null,
      "outputs": []
    }
  ]
}